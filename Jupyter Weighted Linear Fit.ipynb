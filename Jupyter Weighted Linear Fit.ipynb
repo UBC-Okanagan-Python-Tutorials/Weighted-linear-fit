{
 "cells": [
  {
   "cell_type": "markdown",
   "metadata": {},
   "source": [
    "# Weighted Linear Fit\n",
    "\n",
    "*June 9, 2021*\n",
    "\n",
    "In this notebook we will fit a linear function to a set of experimental data.  The fit will be weighted by the measurement uncertainties.\n",
    "\n",
    "Updated by Jordan Andrews on June 9, 2021 with the use of np.polynomial.Polynomial([a, b, c]).\n",
    "\n",
    "In this example, our data will be the voltage across and the current through a resistor.  The slope of our data will tell us the resistance of the resistor.  First import the *NumPy* module."
   ]
  },
  {
   "cell_type": "code",
   "execution_count": 72,
   "metadata": {},
   "outputs": [],
   "source": [
    "import numpy as np"
   ]
  },
  {
   "cell_type": "markdown",
   "metadata": {},
   "source": [
    "Enter the data as arrays."
   ]
  },
  {
   "cell_type": "code",
   "execution_count": 73,
   "metadata": {},
   "outputs": [],
   "source": [
    "Irms= np.array([0.00907, 0.00794, 0.00642, 0.00472, 0.00296, 0.001911, 0.000467, 0.0000469])\n",
    "errIrms= np.array([1.9e-4, 1.8e-4, 1.6e-4, 1.5e-4, 1.3e-4, 1e-4, 5e-5, 1e-5])\n",
    "Vp2p = np.array([5.62, 4.94, 4.02, 2.96, 1.86, 1.19, 0.302, 0.047])\n",
    "errVp2p = np.array([0.04, 0.04, 0.04, 0.04, 0.04, 0.03, 0.01, 0.008])"
   ]
  },
  {
   "cell_type": "markdown",
   "metadata": {},
   "source": [
    "When the data was collected the current was measured as rms values, convert the peak-to-peak voltage measurements to rms by dividing by $2\\sqrt{2}$."
   ]
  },
  {
   "cell_type": "code",
   "execution_count": 74,
   "metadata": {},
   "outputs": [],
   "source": [
    "Vrms = Vp2p/(2*np.sqrt(2))\n",
    "errVrms = errVp2p/(2*np.sqrt(2))"
   ]
  },
  {
   "cell_type": "markdown",
   "metadata": {},
   "source": [
    "Notice that the current data has larger relative errors than the voltage data (typically by a factor of two or more):"
   ]
  },
  {
   "cell_type": "code",
   "execution_count": 75,
   "metadata": {},
   "outputs": [
    {
     "data": {
      "text/plain": [
       "array([2.9432194 , 2.79974811, 2.5046729 , 2.35169492, 2.04222973,\n",
       "       2.07570208, 3.23340471, 1.25266525])"
      ]
     },
     "execution_count": 75,
     "metadata": {},
     "output_type": "execute_result"
    }
   ],
   "source": [
    "Irel = errIrms/Irms\n",
    "Vrel = errVrms/Vrms\n",
    "Irel/Vrel"
   ]
  },
  {
   "cell_type": "markdown",
   "metadata": {},
   "source": [
    " Because the relative error in current is larger, we will plot the data as current vs voltage and show the error bars only along the y-axis.  Use plt.errorbar(x,y,e) from the *Matplotlib* module."
   ]
  },
  {
   "cell_type": "code",
   "execution_count": 76,
   "metadata": {},
   "outputs": [
    {
     "data": {
      "image/png": "[encoded data removed]",
      "text/plain": [
       "<Figure size 432x288 with 1 Axes>"
      ]
     },
     "metadata": {
      "needs_background": "light"
     },
     "output_type": "display_data"
    }
   ],
   "source": [
    "import matplotlib.pyplot as plt\n",
    "plt.errorbar(Vrms, Irms, errIrms, fmt = 'ko', markersize = 5,\\\n",
    "                 linewidth = 1.8,\\\n",
    "                markeredgecolor = 'b',\\\n",
    "                markerfacecolor = 'yellow',\\\n",
    "                capsize = 5)\n",
    "plt.xlabel('RMS Voltage (volts)')\n",
    "plt.ylabel('RMS Current (amps)');"
   ]
  },
  {
   "cell_type": "markdown",
   "metadata": {},
   "source": [
    "To do the actual fit, we will use the 'curve_fit()' function from, the *SciPy* module.  This way of fitting is very nice because we will be able to use it for all types of fit models (linear, polynomial, linear-in-parameter fits, and nonlinear fits).  As we will see, it is capable of doing both unweighted and weighted fits and it will return uncertainties in the fit parameters."
   ]
  },
  {
   "cell_type": "code",
   "execution_count": 77,
   "metadata": {},
   "outputs": [],
   "source": [
    "from scipy.optimize import curve_fit"
   ]
  },
  {
   "cell_type": "markdown",
   "metadata": {},
   "source": [
    "The first step is to define a function for the model that we will fit our data to.  In this case, the model is just the equation of a staight a line."
   ]
  },
  {
   "cell_type": "code",
   "execution_count": 78,
   "metadata": {},
   "outputs": [],
   "source": [
    "def linearFunc(x, intercept, slope):\n",
    "    y = slope*x + intercept\n",
    "    return y"
   ]
  },
  {
   "cell_type": "markdown",
   "metadata": {},
   "source": [
    "Here is the actual command to execute the fit.  At a minimum, *curve_fit()* requires as inputs the function that defines the model, the $x$-data, and the $y$-data.  The statement below tells *curve_fit()* to return a list of the the best-fit parameters (a_fit) and the covariance matrix (cov) which will be used to determine the error in the fit parameters."
   ]
  },
  {
   "cell_type": "code",
   "execution_count": 79,
   "metadata": {},
   "outputs": [],
   "source": [
    "a_fit, cov = curve_fit(linearFunc, Vrms, Irms)"
   ]
  },
  {
   "cell_type": "markdown",
   "metadata": {},
   "source": [
    "Here are the contents of a_fit and cov."
   ]
  },
  {
   "cell_type": "code",
   "execution_count": 80,
   "metadata": {},
   "outputs": [
    {
     "name": "stdout",
     "output_type": "stream",
     "text": [
      "The best-fit parameters are: (1) slope = 0.004562609977167653 and (2) intercept -3.029377062510313e-05\n",
      "Here is the covariance matrix:\n",
      " [[ 2.10867163e-10 -1.45419351e-10]\n",
      " [-1.45419351e-10  1.57145259e-10]]\n"
     ]
    }
   ],
   "source": [
    "print('The best-fit parameters are: (1) slope =', a_fit[1], 'and (2) intercept',\\\n",
    "      a_fit[0])\n",
    "print('Here is the covariance matrix:\\n', cov)"
   ]
  },
  {
   "cell_type": "markdown",
   "metadata": {},
   "source": [
    "As we will see in PHYS 232, the uncertainties of the best-fit parameters are determined from the square roots of the diagonal elements of the covariance matrix.  We can select the diagonal elements using:"
   ]
  },
  {
   "cell_type": "code",
   "execution_count": 81,
   "metadata": {},
   "outputs": [
    {
     "name": "stdout",
     "output_type": "stream",
     "text": [
      "[2.10867163e-10 1.57145259e-10]\n",
      "The error in the slope is: 1.2535759226262432e-05 \n",
      "The error in the intercept is: 1.4521265884900987e-05\n"
     ]
    }
   ],
   "source": [
    "print(np.diag(cov))\n",
    "print('The error in the slope is:', np.sqrt(np.diag(cov))[1], '\\n'\n",
    "      'The error in the intercept is:', np.sqrt(np.diag(cov))[0])"
   ]
  },
  {
   "cell_type": "markdown",
   "metadata": {},
   "source": [
    "*NumPy*  has a nice package for polynomials, called *polynomial*. There are six different polynomial types in this package. For our case, we are dealing with a simple power series. You can use the*Polynomial* constructor for this. y = np.polynomial.Polynomial([a, b, c]) results in $y = a + b\\,x + c\\,x^2$.  \n",
    "\n",
    "Here's the best-fit fucntion obtained using *a_fit* from *curve_fit()* and the built in polynomial package of *NumPy*."
   ]
  },
  {
   "cell_type": "code",
   "execution_count": 82,
   "metadata": {},
   "outputs": [
    {
     "data": {
      "text/latex": [
       "$x \\mapsto \\text{-3.029377062510313e-05} + \\text{0.004562609977167653}\\,x$"
      ],
      "text/plain": [
       "Polynomial([-3.02937706e-05,  4.56260998e-03], domain=[-1,  1], window=[-1,  1])"
      ]
     },
     "execution_count": 82,
     "metadata": {},
     "output_type": "execute_result"
    }
   ],
   "source": [
    "fitFcn = np.polynomial.Polynomial(a_fit)\n",
    "fitFcn"
   ]
  },
  {
   "cell_type": "markdown",
   "metadata": {},
   "source": [
    "We can then evaluate *fitFcn(x)* at any value of $x$ that we want."
   ]
  },
  {
   "cell_type": "code",
   "execution_count": 83,
   "metadata": {},
   "outputs": [
    {
     "data": {
      "text/plain": [
       "(-3.029377062510313e-05, 0.004532316206542549)"
      ]
     },
     "execution_count": 83,
     "metadata": {},
     "output_type": "execute_result"
    }
   ],
   "source": [
    "fitFcn(0), fitFcn(1)"
   ]
  },
  {
   "cell_type": "markdown",
   "metadata": {},
   "source": [
    "This gives us an easy way to plot the fit on top of the data."
   ]
  },
  {
   "cell_type": "code",
   "execution_count": 84,
   "metadata": {},
   "outputs": [
    {
     "data": {
      "image/png": "[encoded data removed]",
      "text/plain": [
       "<Figure size 432x288 with 1 Axes>"
      ]
     },
     "metadata": {
      "needs_background": "light"
     },
     "output_type": "display_data"
    }
   ],
   "source": [
    "# Create a range of $x$ values for plotting:\n",
    "xx = np.arange(-1, 10, 0.1)\n",
    "\n",
    "# Plot of the data as we did above...\n",
    "plt.errorbar(Vrms, Irms, errIrms, fmt = 'ko', markersize = 5,\\\n",
    "                 linewidth = 1.8,\\\n",
    "                markeredgecolor = 'b',\\\n",
    "                markerfacecolor = 'yellow',\\\n",
    "                capsize = 5)\n",
    "\n",
    "# Plot the best-fit line...\n",
    "plt.plot(xx, fitFcn(xx), 'k-')\n",
    "\n",
    "# Add some plot labels...\n",
    "plt.xlabel('RMS Voltage (volts)')\n",
    "plt.ylabel('RMS Current (amps)')\n",
    "plt.title('Unweighted Linear Fit')\n",
    "\n",
    "# Set the range of the axes...\n",
    "plt.axis((0, 2.2, 0, 0.01));"
   ]
  },
  {
   "cell_type": "markdown",
   "metadata": {},
   "source": [
    "All of this has produced an \"unweighted\" fit to the data.  To include weights, all we need to do is include another option in *curve_fit()*.  Everything else is exactly the same!  The new option is *sigma* and it is simply a list of the errors in the $y$-values.  Note that many fitting routines require you to provide the actual weights as $1/\\sigma^2$.  That is not the case here.  You just have to provide the absolute $y$-uncertainties."
   ]
  },
  {
   "cell_type": "code",
   "execution_count": 85,
   "metadata": {},
   "outputs": [],
   "source": [
    "a_fit, cov = curve_fit(linearFunc, Vrms, Irms, sigma = errIrms)"
   ]
  },
  {
   "cell_type": "markdown",
   "metadata": {},
   "source": [
    "Extract the fit parameters and their uncertainties."
   ]
  },
  {
   "cell_type": "code",
   "execution_count": 86,
   "metadata": {},
   "outputs": [
    {
     "name": "stdout",
     "output_type": "stream",
     "text": [
      "The best-fit parameters are: (1) slope = 0.004560548503316531 and (2) intercept -2.8519759527912626e-05\n",
      "The error in the slope is: 9.344743968455787e-06 \n",
      "The error in the intercept is: 1.7648857220463362e-06\n"
     ]
    }
   ],
   "source": [
    "print('The best-fit parameters are: (1) slope =', a_fit[1], 'and (2) intercept',\\\n",
    "      a_fit[0])\n",
    "print('The error in the slope is:', np.sqrt(np.diag(cov))[1], '\\n'\n",
    "      'The error in the intercept is:', np.sqrt(np.diag(cov))[0])"
   ]
  },
  {
   "cell_type": "markdown",
   "metadata": {},
   "source": [
    "Get the best-fit line."
   ]
  },
  {
   "cell_type": "code",
   "execution_count": 87,
   "metadata": {},
   "outputs": [
    {
     "data": {
      "text/latex": [
       "$x \\mapsto \\text{-2.8519759527912626e-05} + \\text{0.004560548503316531}\\,x$"
      ],
      "text/plain": [
       "Polynomial([-2.85197595e-05,  4.56054850e-03], domain=[-1,  1], window=[-1,  1])"
      ]
     },
     "execution_count": 87,
     "metadata": {},
     "output_type": "execute_result"
    }
   ],
   "source": [
    "fitFcn = np.polynomial.Polynomial(a_fit)\n",
    "fitFcn"
   ]
  },
  {
   "cell_type": "markdown",
   "metadata": {},
   "source": [
    "Plot the data..."
   ]
  },
  {
   "cell_type": "code",
   "execution_count": 88,
   "metadata": {},
   "outputs": [
    {
     "data": {
      "image/png": "[encoded data removed]",
      "text/plain": [
       "<Figure size 432x288 with 1 Axes>"
      ]
     },
     "metadata": {
      "needs_background": "light"
     },
     "output_type": "display_data"
    }
   ],
   "source": [
    "plt.errorbar(Vrms, Irms, errIrms, fmt = 'ko', markersize = 5,\\\n",
    "                 linewidth = 1.8,\\\n",
    "                markeredgecolor = 'b',\\\n",
    "                markerfacecolor = 'r',\\\n",
    "                capsize = 5)\n",
    "\n",
    "# Plot the best-fit line...\n",
    "xx = np.arange(-1, 10, 0.1)\n",
    "plt.plot(xx, fitFcn(xx), 'k-')\n",
    "\n",
    "# Do some formatting...\n",
    "plt.xlabel('RMS Voltage (volts)')\n",
    "plt.ylabel('RMS Current (amps)')\n",
    "plt.title('Weighted Linear Fit')\n",
    "plt.axis((0, 2.2, 0, 0.01));"
   ]
  },
  {
   "cell_type": "markdown",
   "metadata": {},
   "source": [
    "Save the plot as a pdf."
   ]
  },
  {
   "cell_type": "code",
   "execution_count": 89,
   "metadata": {},
   "outputs": [
    {
     "data": {
      "text/plain": [
       "<Figure size 432x288 with 0 Axes>"
      ]
     },
     "metadata": {},
     "output_type": "display_data"
    }
   ],
   "source": [
    "plt.savefig('Weighted linear fit plot.pdf', format='pdf')"
   ]
  }
 ],
 "metadata": {
  "kernelspec": {
   "display_name": "Python 3 (ipykernel)",
   "language": "python",
   "name": "python3"
  },
  "language_info": {
   "codemirror_mode": {
    "name": "ipython",
    "version": 3
   },
   "file_extension": ".py",
   "mimetype": "text/x-python",
   "name": "python",
   "nbconvert_exporter": "python",
   "pygments_lexer": "ipython3",
   "version": "3.8.13"
  }
 },
 "nbformat": 4,
 "nbformat_minor": 4
}
